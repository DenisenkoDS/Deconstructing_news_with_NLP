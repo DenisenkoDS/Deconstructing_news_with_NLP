{
  "nbformat": 4,
  "nbformat_minor": 0,
  "metadata": {
    "colab": {
      "provenance": [],
      "collapsed_sections": []
    },
    "kernelspec": {
      "name": "python3",
      "display_name": "Python 3"
    },
    "language_info": {
      "name": "python"
    },
    "gpuClass": "standard",
    "accelerator": "GPU"
  },
  "cells": [
    {
      "cell_type": "code",
      "source": [
        "from google.colab import drive\n",
        "drive.mount('/content/drive')"
      ],
      "metadata": {
        "colab": {
          "base_uri": "https://localhost:8080/"
        },
        "id": "cL1voPy3Bsvy",
        "outputId": "cddb9eb4-22c3-4031-ce53-746e59872664"
      },
      "execution_count": null,
      "outputs": [
        {
          "output_type": "stream",
          "name": "stdout",
          "text": [
            "Mounted at /content/drive\n"
          ]
        }
      ]
    },
    {
      "cell_type": "code",
      "source": [
        "!pip install natasha"
      ],
      "metadata": {
        "id": "bIM0uHovPOuU",
        "colab": {
          "base_uri": "https://localhost:8080/"
        },
        "outputId": "ae765222-ca68-41eb-d63a-3122e2caa07e"
      },
      "execution_count": null,
      "outputs": [
        {
          "output_type": "stream",
          "name": "stdout",
          "text": [
            "Looking in indexes: https://pypi.org/simple, https://us-python.pkg.dev/colab-wheels/public/simple/\n",
            "Collecting natasha\n",
            "  Downloading natasha-1.4.0-py3-none-any.whl (34.4 MB)\n",
            "\u001b[K     |████████████████████████████████| 34.4 MB 1.3 MB/s \n",
            "\u001b[?25hCollecting yargy>=0.14.0\n",
            "  Downloading yargy-0.15.0-py3-none-any.whl (41 kB)\n",
            "\u001b[K     |████████████████████████████████| 41 kB 170 kB/s \n",
            "\u001b[?25hCollecting razdel>=0.5.0\n",
            "  Downloading razdel-0.5.0-py3-none-any.whl (21 kB)\n",
            "Collecting slovnet>=0.3.0\n",
            "  Downloading slovnet-0.5.0-py3-none-any.whl (49 kB)\n",
            "\u001b[K     |████████████████████████████████| 49 kB 8.6 MB/s \n",
            "\u001b[?25hCollecting ipymarkup>=0.8.0\n",
            "  Downloading ipymarkup-0.9.0-py3-none-any.whl (14 kB)\n",
            "Collecting navec>=0.9.0\n",
            "  Downloading navec-0.10.0-py3-none-any.whl (23 kB)\n",
            "Collecting pymorphy2\n",
            "  Downloading pymorphy2-0.9.1-py3-none-any.whl (55 kB)\n",
            "\u001b[K     |████████████████████████████████| 55 kB 5.5 MB/s \n",
            "\u001b[?25hCollecting intervaltree>=3\n",
            "  Downloading intervaltree-3.1.0.tar.gz (32 kB)\n",
            "Requirement already satisfied: sortedcontainers<3.0,>=2.0 in /usr/local/lib/python3.7/dist-packages (from intervaltree>=3->ipymarkup>=0.8.0->natasha) (2.4.0)\n",
            "Requirement already satisfied: numpy in /usr/local/lib/python3.7/dist-packages (from navec>=0.9.0->natasha) (1.21.6)\n",
            "Collecting pymorphy2-dicts-ru<3.0,>=2.4\n",
            "  Downloading pymorphy2_dicts_ru-2.4.417127.4579844-py2.py3-none-any.whl (8.2 MB)\n",
            "\u001b[K     |████████████████████████████████| 8.2 MB 95.2 MB/s \n",
            "\u001b[?25hCollecting dawg-python>=0.7.1\n",
            "  Downloading DAWG_Python-0.7.2-py2.py3-none-any.whl (11 kB)\n",
            "Collecting docopt>=0.6\n",
            "  Downloading docopt-0.6.2.tar.gz (25 kB)\n",
            "Building wheels for collected packages: intervaltree, docopt\n",
            "  Building wheel for intervaltree (setup.py) ... \u001b[?25l\u001b[?25hdone\n",
            "  Created wheel for intervaltree: filename=intervaltree-3.1.0-py2.py3-none-any.whl size=26119 sha256=9fc4a9b0326c828ae6f1558bf541512eca0db4a1176fdb58f92d2ac24d2fac4f\n",
            "  Stored in directory: /root/.cache/pip/wheels/16/85/bd/1001cbb46dcfb71c2001cd7401c6fb250392f22a81ce3722f7\n",
            "  Building wheel for docopt (setup.py) ... \u001b[?25l\u001b[?25hdone\n",
            "  Created wheel for docopt: filename=docopt-0.6.2-py2.py3-none-any.whl size=13723 sha256=cab9824f1c8002a14a42d90baa401efdac0b5969f06935ce594b022133c9f487\n",
            "  Stored in directory: /root/.cache/pip/wheels/72/b0/3f/1d95f96ff986c7dfffe46ce2be4062f38ebd04b506c77c81b9\n",
            "Successfully built intervaltree docopt\n",
            "Installing collected packages: pymorphy2-dicts-ru, docopt, dawg-python, razdel, pymorphy2, navec, intervaltree, yargy, slovnet, ipymarkup, natasha\n",
            "  Attempting uninstall: intervaltree\n",
            "    Found existing installation: intervaltree 2.1.0\n",
            "    Uninstalling intervaltree-2.1.0:\n",
            "      Successfully uninstalled intervaltree-2.1.0\n",
            "Successfully installed dawg-python-0.7.2 docopt-0.6.2 intervaltree-3.1.0 ipymarkup-0.9.0 natasha-1.4.0 navec-0.10.0 pymorphy2-0.9.1 pymorphy2-dicts-ru-2.4.417127.4579844 razdel-0.5.0 slovnet-0.5.0 yargy-0.15.0\n"
          ]
        }
      ]
    },
    {
      "cell_type": "code",
      "source": [
        "import pandas as pd\n",
        "import string\n",
        "import re\n",
        "from statistics import mode\n",
        "import numpy as np\n",
        "import nltk\n",
        "from nltk.corpus import stopwords\n",
        "from natasha import MorphVocab"
      ],
      "metadata": {
        "id": "Fn4Tbt-3db8j"
      },
      "execution_count": null,
      "outputs": []
    },
    {
      "cell_type": "markdown",
      "source": [
        "# Стоп-слова: Расширенный список"
      ],
      "metadata": {
        "id": "pJEmVCnfym6B"
      }
    },
    {
      "cell_type": "code",
      "source": [
        "nltk.download('stopwords')\n",
        "sw = stopwords.words('russian')"
      ],
      "metadata": {
        "colab": {
          "base_uri": "https://localhost:8080/"
        },
        "id": "425Z0YEwyumK",
        "outputId": "94b93bf7-0e84-4aab-fec9-290eb38e9475"
      },
      "execution_count": null,
      "outputs": [
        {
          "output_type": "stream",
          "name": "stderr",
          "text": [
            "[nltk_data] Downloading package stopwords to /root/nltk_data...\n",
            "[nltk_data]   Unzipping corpora/stopwords.zip.\n"
          ]
        }
      ]
    },
    {
      "cell_type": "code",
      "source": [
        "a = pd.read_csv('/content/drive/MyDrive/Russian_news_project/final_project/stop_words/стоп-слова.txt')\n",
        "add_stop_words = [i for i in a['STOPWORDS_RUS'] if i not in sw]\n",
        "sw = sw + add_stop_words\n",
        "len(sw)"
      ],
      "metadata": {
        "colab": {
          "base_uri": "https://localhost:8080/"
        },
        "id": "LvaGDxhay5gz",
        "outputId": "1e6190f9-d63f-4869-c8c4-a9433981d23f"
      },
      "execution_count": null,
      "outputs": [
        {
          "output_type": "execute_result",
          "data": {
            "text/plain": [
              "649"
            ]
          },
          "metadata": {},
          "execution_count": 7
        }
      ]
    },
    {
      "cell_type": "code",
      "source": [
        "# import csv\n",
        "  \n",
        "# with open('/content/drive/MyDrive/Russian_news_project/стоп-слова.txt', 'w') as fp:\n",
        "#   for i in sw:\n",
        "#     fp.write(\"%s\\n\" % i)"
      ],
      "metadata": {
        "id": "l8NhRuZMzF0S"
      },
      "execution_count": null,
      "outputs": []
    },
    {
      "cell_type": "markdown",
      "source": [
        "# Превращаем .json в DataFrame"
      ],
      "metadata": {
        "id": "uSgkxGEE_MrQ"
      }
    },
    {
      "cell_type": "code",
      "source": [
        "def create_df(path_to_json):\n",
        "  df = pd.read_json(path_to_json).drop(['id', 'type'], axis=1)\n",
        "  df['Text'] = [i['text'] for i in df['messages']]\n",
        "  df['Date'] = [i['date'].split('T')[0] for i in df['messages']]\n",
        "  df.drop(['messages'], axis=1, inplace=True)\n",
        "  df['text'] = [str(i) for i in df['Text']]\n",
        "  df = df.drop(columns = ['Text'])\n",
        "  return df"
      ],
      "metadata": {
        "id": "BRwZlNyIecb-"
      },
      "execution_count": null,
      "outputs": []
    },
    {
      "cell_type": "code",
      "source": [
        "df_Meduza = create_df('/content/drive/MyDrive/Russian_news_project/final_project/json/Meduza_21_22.json')"
      ],
      "metadata": {
        "id": "Jxayq3pkhrvQ"
      },
      "execution_count": null,
      "outputs": []
    },
    {
      "cell_type": "code",
      "source": [
        "df_Readovka = create_df('/content/drive/MyDrive/Russian_news_project/final_project/json/Readovka_21-22.json')"
      ],
      "metadata": {
        "id": "-IAWiRdxiICz"
      },
      "execution_count": null,
      "outputs": []
    },
    {
      "cell_type": "code",
      "source": [
        "df_RIA = create_df('/content/drive/MyDrive/Russian_news_project/final_project/json/RIA_21-22.json')"
      ],
      "metadata": {
        "id": "U6APUozStMSR"
      },
      "execution_count": null,
      "outputs": []
    },
    {
      "cell_type": "code",
      "source": [
        "df_Baza = create_df('/content/drive/MyDrive/Russian_news_project/final_project/json/Baza_21-22.json')"
      ],
      "metadata": {
        "id": "8YnMO4rZ4znF"
      },
      "execution_count": null,
      "outputs": []
    },
    {
      "cell_type": "code",
      "source": [
        "df_Mash = create_df('/content/drive/MyDrive/Russian_news_project/final_project/json/Mash_21-22.json')"
      ],
      "metadata": {
        "id": "yZ9S_SRr45gE"
      },
      "execution_count": null,
      "outputs": []
    },
    {
      "cell_type": "code",
      "source": [
        "df_Ostorozhno = create_df('/content/drive/MyDrive/Russian_news_project/final_project/json/Ostorozhno_21-22.json')"
      ],
      "metadata": {
        "id": "wsCUd7bw4-gC"
      },
      "execution_count": null,
      "outputs": []
    },
    {
      "cell_type": "markdown",
      "source": [
        "# Складываем датасет"
      ],
      "metadata": {
        "id": "hFCgcP2kQOwv"
      }
    },
    {
      "cell_type": "code",
      "source": [
        "df_Meduza.to_csv('/content/drive/MyDrive/Russian_news_project/final_project/csv/Meduza.csv')"
      ],
      "metadata": {
        "id": "LY7xW5TSQNyu"
      },
      "execution_count": null,
      "outputs": []
    },
    {
      "cell_type": "code",
      "source": [
        "df_RIA.to_csv('/content/drive/MyDrive/Russian_news_project/final_project/csv/RIA.csv')"
      ],
      "metadata": {
        "id": "JDx4sf-xQNyv"
      },
      "execution_count": null,
      "outputs": []
    },
    {
      "cell_type": "code",
      "source": [
        "df_Readovka.to_csv('/content/drive/MyDrive/Russian_news_project/final_project/csv/Readovka.csv')"
      ],
      "metadata": {
        "id": "9yTf3Dl6QNyw"
      },
      "execution_count": null,
      "outputs": []
    },
    {
      "cell_type": "code",
      "source": [
        "df_Baza.to_csv('/content/drive/MyDrive/Russian_news_project/final_project/csv/Baza.csv')"
      ],
      "metadata": {
        "id": "TuTA-InoQNyw"
      },
      "execution_count": null,
      "outputs": []
    },
    {
      "cell_type": "code",
      "source": [
        "df_Mash.to_csv('/content/drive/MyDrive/Russian_news_project/final_project/csv/Mash.csv')"
      ],
      "metadata": {
        "id": "UQKtRzjDQNyx"
      },
      "execution_count": null,
      "outputs": []
    },
    {
      "cell_type": "code",
      "source": [
        "df_Ostorozhno.to_csv('/content/drive/MyDrive/Russian_news_project/final_project/csv/Ostorozhno.csv')"
      ],
      "metadata": {
        "id": "QObq2H3gQNyx"
      },
      "execution_count": null,
      "outputs": []
    },
    {
      "cell_type": "code",
      "source": [
        "q = pd.read_csv('/content/drive/MyDrive/Russian_news_project/final_project/csv/Mash.csv', index_col=['Unnamed: 0'])\n",
        "w = pd.read_csv('/content/drive/MyDrive/Russian_news_project/final_project/csv/Meduza.csv', index_col=['Unnamed: 0'])\n",
        "r = pd.read_csv('/content/drive/MyDrive/Russian_news_project/final_project/csv/Readovka.csv', index_col=['Unnamed: 0'])\n",
        "t = pd.read_csv('/content/drive/MyDrive/Russian_news_project/final_project/csv/Ostorozhno.csv', index_col=['Unnamed: 0'])\n",
        "y = pd.read_csv('/content/drive/MyDrive/Russian_news_project/final_project/csv/Baza.csv', index_col=['Unnamed: 0'])\n",
        "e = pd.read_csv('/content/drive/MyDrive/Russian_news_project/final_project/csv/RIA.csv', index_col=['Unnamed: 0'])\n",
        "dataset = pd.concat([q, w, e, r, t, y]).reset_index(drop=True)"
      ],
      "metadata": {
        "id": "cs2v4op7QNyy"
      },
      "execution_count": null,
      "outputs": []
    },
    {
      "cell_type": "code",
      "source": [
        "dataset_original = pd.concat([q, w, e, r, t, y]).reset_index(drop=True) #датасет без предобработки"
      ],
      "metadata": {
        "id": "ExLNuwKqT4oZ"
      },
      "execution_count": null,
      "outputs": []
    },
    {
      "cell_type": "code",
      "source": [
        "dataset.to_csv('/content/drive/MyDrive/Russian_news_project/final_project/csv/TG_24.08.csv')"
      ],
      "metadata": {
        "id": "6sBk5w-iQNyy"
      },
      "execution_count": null,
      "outputs": []
    },
    {
      "cell_type": "code",
      "source": [
        "dataset = pd.read_csv('/content/drive/MyDrive/Russian_news_project/final_project/csv/TG_24.08.csv', index_col=['Unnamed: 0'])"
      ],
      "metadata": {
        "id": "BIcQMo54QNyy"
      },
      "execution_count": null,
      "outputs": []
    },
    {
      "cell_type": "code",
      "source": [
        "dataset"
      ],
      "metadata": {
        "colab": {
          "base_uri": "https://localhost:8080/",
          "height": 424
        },
        "outputId": "13ea2096-5f97-4228-e3f7-98969ed0003e",
        "id": "0Vi46MjfQNyz"
      },
      "execution_count": null,
      "outputs": [
        {
          "output_type": "execute_result",
          "data": {
            "text/plain": [
              "        name        Date                                               text\n",
              "0       Mash  2021-07-01  В Москве с 1 июля начинается ревакцинация от к...\n",
              "1       Mash  2021-07-01  Человек своим телом закрыл старого друга семьи...\n",
              "2       Mash  2021-07-01  Данные по коронавирусу за прошедшие сутки: 23 ...\n",
              "3       Mash  2021-07-01  \"Яша-артиллерист\" со вчерашней прямой линии жа...\n",
              "4       Mash  2021-07-01  В Москве врачи спасли жизнь 67-летней женщине....\n",
              "...      ...         ...                                                ...\n",
              "122129  Baza  2022-06-30  В Якутске трое мужчин попытались спасти ребенк...\n",
              "122130  Baza  2022-06-30  С московских причалов начали убирать зазывал. ...\n",
              "122131  Baza  2022-06-30  Девушка из Москвы перевела 30 миллионов рублей...\n",
              "122132  Baza  2022-06-30                                                NaN\n",
              "122133  Baza  2022-06-30  [{'type': 'italic', 'text': '«Сидим мы с братв...\n",
              "\n",
              "[122134 rows x 3 columns]"
            ],
            "text/html": [
              "\n",
              "  <div id=\"df-07736963-2ac1-47e2-8132-dc364b61e86f\">\n",
              "    <div class=\"colab-df-container\">\n",
              "      <div>\n",
              "<style scoped>\n",
              "    .dataframe tbody tr th:only-of-type {\n",
              "        vertical-align: middle;\n",
              "    }\n",
              "\n",
              "    .dataframe tbody tr th {\n",
              "        vertical-align: top;\n",
              "    }\n",
              "\n",
              "    .dataframe thead th {\n",
              "        text-align: right;\n",
              "    }\n",
              "</style>\n",
              "<table border=\"1\" class=\"dataframe\">\n",
              "  <thead>\n",
              "    <tr style=\"text-align: right;\">\n",
              "      <th></th>\n",
              "      <th>name</th>\n",
              "      <th>Date</th>\n",
              "      <th>text</th>\n",
              "    </tr>\n",
              "  </thead>\n",
              "  <tbody>\n",
              "    <tr>\n",
              "      <th>0</th>\n",
              "      <td>Mash</td>\n",
              "      <td>2021-07-01</td>\n",
              "      <td>В Москве с 1 июля начинается ревакцинация от к...</td>\n",
              "    </tr>\n",
              "    <tr>\n",
              "      <th>1</th>\n",
              "      <td>Mash</td>\n",
              "      <td>2021-07-01</td>\n",
              "      <td>Человек своим телом закрыл старого друга семьи...</td>\n",
              "    </tr>\n",
              "    <tr>\n",
              "      <th>2</th>\n",
              "      <td>Mash</td>\n",
              "      <td>2021-07-01</td>\n",
              "      <td>Данные по коронавирусу за прошедшие сутки: 23 ...</td>\n",
              "    </tr>\n",
              "    <tr>\n",
              "      <th>3</th>\n",
              "      <td>Mash</td>\n",
              "      <td>2021-07-01</td>\n",
              "      <td>\"Яша-артиллерист\" со вчерашней прямой линии жа...</td>\n",
              "    </tr>\n",
              "    <tr>\n",
              "      <th>4</th>\n",
              "      <td>Mash</td>\n",
              "      <td>2021-07-01</td>\n",
              "      <td>В Москве врачи спасли жизнь 67-летней женщине....</td>\n",
              "    </tr>\n",
              "    <tr>\n",
              "      <th>...</th>\n",
              "      <td>...</td>\n",
              "      <td>...</td>\n",
              "      <td>...</td>\n",
              "    </tr>\n",
              "    <tr>\n",
              "      <th>122129</th>\n",
              "      <td>Baza</td>\n",
              "      <td>2022-06-30</td>\n",
              "      <td>В Якутске трое мужчин попытались спасти ребенк...</td>\n",
              "    </tr>\n",
              "    <tr>\n",
              "      <th>122130</th>\n",
              "      <td>Baza</td>\n",
              "      <td>2022-06-30</td>\n",
              "      <td>С московских причалов начали убирать зазывал. ...</td>\n",
              "    </tr>\n",
              "    <tr>\n",
              "      <th>122131</th>\n",
              "      <td>Baza</td>\n",
              "      <td>2022-06-30</td>\n",
              "      <td>Девушка из Москвы перевела 30 миллионов рублей...</td>\n",
              "    </tr>\n",
              "    <tr>\n",
              "      <th>122132</th>\n",
              "      <td>Baza</td>\n",
              "      <td>2022-06-30</td>\n",
              "      <td>NaN</td>\n",
              "    </tr>\n",
              "    <tr>\n",
              "      <th>122133</th>\n",
              "      <td>Baza</td>\n",
              "      <td>2022-06-30</td>\n",
              "      <td>[{'type': 'italic', 'text': '«Сидим мы с братв...</td>\n",
              "    </tr>\n",
              "  </tbody>\n",
              "</table>\n",
              "<p>122134 rows × 3 columns</p>\n",
              "</div>\n",
              "      <button class=\"colab-df-convert\" onclick=\"convertToInteractive('df-07736963-2ac1-47e2-8132-dc364b61e86f')\"\n",
              "              title=\"Convert this dataframe to an interactive table.\"\n",
              "              style=\"display:none;\">\n",
              "        \n",
              "  <svg xmlns=\"http://www.w3.org/2000/svg\" height=\"24px\"viewBox=\"0 0 24 24\"\n",
              "       width=\"24px\">\n",
              "    <path d=\"M0 0h24v24H0V0z\" fill=\"none\"/>\n",
              "    <path d=\"M18.56 5.44l.94 2.06.94-2.06 2.06-.94-2.06-.94-.94-2.06-.94 2.06-2.06.94zm-11 1L8.5 8.5l.94-2.06 2.06-.94-2.06-.94L8.5 2.5l-.94 2.06-2.06.94zm10 10l.94 2.06.94-2.06 2.06-.94-2.06-.94-.94-2.06-.94 2.06-2.06.94z\"/><path d=\"M17.41 7.96l-1.37-1.37c-.4-.4-.92-.59-1.43-.59-.52 0-1.04.2-1.43.59L10.3 9.45l-7.72 7.72c-.78.78-.78 2.05 0 2.83L4 21.41c.39.39.9.59 1.41.59.51 0 1.02-.2 1.41-.59l7.78-7.78 2.81-2.81c.8-.78.8-2.07 0-2.86zM5.41 20L4 18.59l7.72-7.72 1.47 1.35L5.41 20z\"/>\n",
              "  </svg>\n",
              "      </button>\n",
              "      \n",
              "  <style>\n",
              "    .colab-df-container {\n",
              "      display:flex;\n",
              "      flex-wrap:wrap;\n",
              "      gap: 12px;\n",
              "    }\n",
              "\n",
              "    .colab-df-convert {\n",
              "      background-color: #E8F0FE;\n",
              "      border: none;\n",
              "      border-radius: 50%;\n",
              "      cursor: pointer;\n",
              "      display: none;\n",
              "      fill: #1967D2;\n",
              "      height: 32px;\n",
              "      padding: 0 0 0 0;\n",
              "      width: 32px;\n",
              "    }\n",
              "\n",
              "    .colab-df-convert:hover {\n",
              "      background-color: #E2EBFA;\n",
              "      box-shadow: 0px 1px 2px rgba(60, 64, 67, 0.3), 0px 1px 3px 1px rgba(60, 64, 67, 0.15);\n",
              "      fill: #174EA6;\n",
              "    }\n",
              "\n",
              "    [theme=dark] .colab-df-convert {\n",
              "      background-color: #3B4455;\n",
              "      fill: #D2E3FC;\n",
              "    }\n",
              "\n",
              "    [theme=dark] .colab-df-convert:hover {\n",
              "      background-color: #434B5C;\n",
              "      box-shadow: 0px 1px 3px 1px rgba(0, 0, 0, 0.15);\n",
              "      filter: drop-shadow(0px 1px 2px rgba(0, 0, 0, 0.3));\n",
              "      fill: #FFFFFF;\n",
              "    }\n",
              "  </style>\n",
              "\n",
              "      <script>\n",
              "        const buttonEl =\n",
              "          document.querySelector('#df-07736963-2ac1-47e2-8132-dc364b61e86f button.colab-df-convert');\n",
              "        buttonEl.style.display =\n",
              "          google.colab.kernel.accessAllowed ? 'block' : 'none';\n",
              "\n",
              "        async function convertToInteractive(key) {\n",
              "          const element = document.querySelector('#df-07736963-2ac1-47e2-8132-dc364b61e86f');\n",
              "          const dataTable =\n",
              "            await google.colab.kernel.invokeFunction('convertToInteractive',\n",
              "                                                     [key], {});\n",
              "          if (!dataTable) return;\n",
              "\n",
              "          const docLinkHtml = 'Like what you see? Visit the ' +\n",
              "            '<a target=\"_blank\" href=https://colab.research.google.com/notebooks/data_table.ipynb>data table notebook</a>'\n",
              "            + ' to learn more about interactive tables.';\n",
              "          element.innerHTML = '';\n",
              "          dataTable['output_type'] = 'display_data';\n",
              "          await google.colab.output.renderOutput(dataTable, element);\n",
              "          const docLink = document.createElement('div');\n",
              "          docLink.innerHTML = docLinkHtml;\n",
              "          element.appendChild(docLink);\n",
              "        }\n",
              "      </script>\n",
              "    </div>\n",
              "  </div>\n",
              "  "
            ]
          },
          "metadata": {},
          "execution_count": 25
        }
      ]
    },
    {
      "cell_type": "code",
      "source": [
        "df_new = pd.read_csv('/content/drive/MyDrive/Russian_news_project/final_project/csv/df_new_2508.csv',index_col=['Unnamed: 0'])"
      ],
      "metadata": {
        "id": "yAiHWyMIBYiY"
      },
      "execution_count": null,
      "outputs": []
    },
    {
      "cell_type": "markdown",
      "source": [
        "# Очищаем текст"
      ],
      "metadata": {
        "id": "mMWKmzli_IjE"
      }
    },
    {
      "cell_type": "markdown",
      "source": [
        "### Функция очиски"
      ],
      "metadata": {
        "id": "6scBzG5xS_s2"
      }
    },
    {
      "cell_type": "code",
      "source": [
        "def clean_text(your_df):\n",
        "  your_df = your_df.map(lambda x: re.sub(r\"(https?:\\/\\/)?([\\da-z\\.-]+)\\.([a-z\\.]{2,6})([\\/\\w \\.-]*)\", \" \", x))\n",
        "  your_df = your_df.map(lambda x: re.sub(r\"\\W+\", \" \", x))\n",
        "  your_df = your_df.map(lambda x: re.sub(r\"type|bold|text|_link|xa0|link|href|italic|^\\s+|\\s+$|\", \"\", x))\n",
        "  your_df = your_df.map(lambda x: re.sub(r\" n\", \" \", x))\n",
        "  your_df = your_df.map(lambda x: re.sub(r\"\\s+\", \" \", x))\n",
        "  your_df = your_df.map(lambda x: re.sub(r\" \\d+\", \"\", x))\n",
        "  your_df = [np.nan if len(i) == 0 else i for i in your_df]\n",
        "  return your_df"
      ],
      "metadata": {
        "id": "kMOnXIt_pxb9"
      },
      "execution_count": null,
      "outputs": []
    },
    {
      "cell_type": "code",
      "source": [
        "def krasivi_text(your_df):\n",
        "  your_df = your_df.map(lambda x: re.sub(r\"type|bold|text|_link|xa0|link|href|italic|^\\s+|\\s+$|\", \"\", x))\n",
        "  your_df = your_df.map(lambda x: x.replace('\\\\n\\\\n', \" \"))\n",
        "  your_df = your_df.map(lambda x: x.replace('\\n\\n', \" \"))\n",
        "  your_df = your_df.map(lambda x: x.replace('\\n', \" \"))\n",
        "  your_df = your_df.map(lambda x: re.sub(r\"(https?:\\/\\/)?([\\da-z\\.-]+)\\.([a-z\\.]{2,6})([\\/\\w \\.-]*)\", \" \", x))\n",
        "  your_df = your_df.map(lambda x: x.replace(\"[{'': ''\", \"\"))\n",
        "  your_df = your_df.map(lambda x: x.replace(\"'': ''}]\", \"\"))\n",
        "  your_df = your_df.map(lambda x: x.replace(\" , ': ''\", \"\"))\n",
        "  your_df = your_df.map(lambda x: x.replace(\"' , ': ''\", \"\"))\n",
        "  your_df = your_df.map(lambda x: x.replace(\"['\", \"\"))\n",
        "  your_df = your_df.map(lambda x: x.replace(\"']\", \"\"))\n",
        "  your_df = your_df.map(lambda x: x.replace(\"'}\", \"\"))\n",
        "  your_df = your_df.map(lambda x: x.replace(\"{'\", \"\"))\n",
        "  return your_df"
      ],
      "metadata": {
        "id": "XPYDAnHkI-ak"
      },
      "execution_count": null,
      "outputs": []
    },
    {
      "cell_type": "code",
      "source": [
        "dataset = dataset.dropna(axis=0)"
      ],
      "metadata": {
        "id": "6POOrezsK0jv"
      },
      "execution_count": null,
      "outputs": []
    },
    {
      "cell_type": "code",
      "source": [
        "df_new[\"krasivi_text\"] = krasivi_text(df_new[\"krasivi_text\"])"
      ],
      "metadata": {
        "id": "-Q1LRl0zKEsc"
      },
      "execution_count": null,
      "outputs": []
    },
    {
      "cell_type": "code",
      "source": [
        "df_new"
      ],
      "metadata": {
        "colab": {
          "base_uri": "https://localhost:8080/",
          "height": 641
        },
        "id": "wyWCL_DwK8Sm",
        "outputId": "f9bcc235-a0d4-40f0-f448-b14ba01c55f1"
      },
      "execution_count": null,
      "outputs": [
        {
          "output_type": "execute_result",
          "data": {
            "text/plain": [
              "        name        Date                                               text  \\\n",
              "0       Mash  2021-07-01  Человек своим телом закрыл старого друга семьи...   \n",
              "1       Mash  2021-07-01  Данные коронавирусу прошедшие новых случая За ...   \n",
              "2       Mash  2021-07-01  Яша артиллерист вчерашней прямой линии жаловал...   \n",
              "3       Mash  2021-07-01  В Москве врачи спасли летней женщине Два часа ...   \n",
              "4       Mash  2021-07-01  Мы подумали В ресторане Якутске ребёнку налили...   \n",
              "...      ...         ...                                                ...   \n",
              "102806  Baza  2022-06-30  Галочка фейков ВКонтакте тестирует процедуру д...   \n",
              "102807  Baza  2022-06-30  В Якутске трое мужчин попытались спасти ребенк...   \n",
              "102808  Baza  2022-06-30  С московских причалов начали убирать зазывал В...   \n",
              "102809  Baza  2022-06-30  Девушка Москвы перевела рублей мошенникам публ...   \n",
              "102810  Baza  2022-06-30  Сидим братвами б ь обсуждаем русских очкуете ж...   \n",
              "\n",
              "                                             krasivi_text  \\\n",
              "0       Человек своим телом закрыл старого друга семьи...   \n",
              "1       Данные по коронавирусу за прошедшие сутки: 23 ...   \n",
              "2       \"Яша-артиллерист\" со вчерашней прямой линии жа...   \n",
              "3       В Москве врачи спасли жизнь 67-летней женщине....   \n",
              "4       \"Мы подумали, что это вода\" , 'В ресторане в Я...   \n",
              "...                                                   ...   \n",
              "102806  Галочка против фейков. «ВКонтакте» тестирует п...   \n",
              "102807  В Якутске трое мужчин попытались спасти ребенк...   \n",
              "102808  С московских причалов начали убирать зазывал. ...   \n",
              "102809  Девушка из Москвы перевела 30 миллионов рублей...   \n",
              "102810  «Сидим мы с братвами, б***ь, обсуждаем вас, ру...   \n",
              "\n",
              "                                  organizations  \\\n",
              "0                                            []   \n",
              "1                                            []   \n",
              "2                 ['Яша-артиллерист', 'СУЭНКО']   \n",
              "3                                            []   \n",
              "4                               ['Чочур Муран']   \n",
              "...                                         ...   \n",
              "102806                            ['ВКонтакте']   \n",
              "102807                                       []   \n",
              "102808  ['Центр организация дорожное движение']   \n",
              "102809                               ['Ватсап']   \n",
              "102810                                       []   \n",
              "\n",
              "                                locations  \\\n",
              "0                                      []   \n",
              "1               ['Москва', 'Подмосковье']   \n",
              "2       ['Тюменская область', 'Демьянка']   \n",
              "3                              ['Москва']   \n",
              "4                              ['Якутск']   \n",
              "...                                   ...   \n",
              "102806                                 []   \n",
              "102807                         ['Якутск']   \n",
              "102808                    ['Москве-реке']   \n",
              "102809             ['Москва', 'Одинцово']   \n",
              "102810                         ['Сургут']   \n",
              "\n",
              "                                                  persons  dominant_topic  \n",
              "0                                                      []               2  \n",
              "1                                                      []               4  \n",
              "2       ['Тарлан Тагиров', 'Яши-артиллериста', 'Тагиров']               3  \n",
              "3                                                      []               2  \n",
              "4                                                      []               0  \n",
              "...                                                   ...             ...  \n",
              "102806                                                 []               3  \n",
              "102807                                                 []               2  \n",
              "102808                                                 []               3  \n",
              "102809                             ['Даниэла', 'Даниэлы']               3  \n",
              "102810                             ['Раи', 'Рай Мамедов']               3  \n",
              "\n",
              "[102811 rows x 8 columns]"
            ],
            "text/html": [
              "\n",
              "  <div id=\"df-ea8bd058-1dfb-41b3-b24a-915c323d3df6\">\n",
              "    <div class=\"colab-df-container\">\n",
              "      <div>\n",
              "<style scoped>\n",
              "    .dataframe tbody tr th:only-of-type {\n",
              "        vertical-align: middle;\n",
              "    }\n",
              "\n",
              "    .dataframe tbody tr th {\n",
              "        vertical-align: top;\n",
              "    }\n",
              "\n",
              "    .dataframe thead th {\n",
              "        text-align: right;\n",
              "    }\n",
              "</style>\n",
              "<table border=\"1\" class=\"dataframe\">\n",
              "  <thead>\n",
              "    <tr style=\"text-align: right;\">\n",
              "      <th></th>\n",
              "      <th>name</th>\n",
              "      <th>Date</th>\n",
              "      <th>text</th>\n",
              "      <th>krasivi_text</th>\n",
              "      <th>organizations</th>\n",
              "      <th>locations</th>\n",
              "      <th>persons</th>\n",
              "      <th>dominant_topic</th>\n",
              "    </tr>\n",
              "  </thead>\n",
              "  <tbody>\n",
              "    <tr>\n",
              "      <th>0</th>\n",
              "      <td>Mash</td>\n",
              "      <td>2021-07-01</td>\n",
              "      <td>Человек своим телом закрыл старого друга семьи...</td>\n",
              "      <td>Человек своим телом закрыл старого друга семьи...</td>\n",
              "      <td>[]</td>\n",
              "      <td>[]</td>\n",
              "      <td>[]</td>\n",
              "      <td>2</td>\n",
              "    </tr>\n",
              "    <tr>\n",
              "      <th>1</th>\n",
              "      <td>Mash</td>\n",
              "      <td>2021-07-01</td>\n",
              "      <td>Данные коронавирусу прошедшие новых случая За ...</td>\n",
              "      <td>Данные по коронавирусу за прошедшие сутки: 23 ...</td>\n",
              "      <td>[]</td>\n",
              "      <td>['Москва', 'Подмосковье']</td>\n",
              "      <td>[]</td>\n",
              "      <td>4</td>\n",
              "    </tr>\n",
              "    <tr>\n",
              "      <th>2</th>\n",
              "      <td>Mash</td>\n",
              "      <td>2021-07-01</td>\n",
              "      <td>Яша артиллерист вчерашней прямой линии жаловал...</td>\n",
              "      <td>\"Яша-артиллерист\" со вчерашней прямой линии жа...</td>\n",
              "      <td>['Яша-артиллерист', 'СУЭНКО']</td>\n",
              "      <td>['Тюменская область', 'Демьянка']</td>\n",
              "      <td>['Тарлан Тагиров', 'Яши-артиллериста', 'Тагиров']</td>\n",
              "      <td>3</td>\n",
              "    </tr>\n",
              "    <tr>\n",
              "      <th>3</th>\n",
              "      <td>Mash</td>\n",
              "      <td>2021-07-01</td>\n",
              "      <td>В Москве врачи спасли летней женщине Два часа ...</td>\n",
              "      <td>В Москве врачи спасли жизнь 67-летней женщине....</td>\n",
              "      <td>[]</td>\n",
              "      <td>['Москва']</td>\n",
              "      <td>[]</td>\n",
              "      <td>2</td>\n",
              "    </tr>\n",
              "    <tr>\n",
              "      <th>4</th>\n",
              "      <td>Mash</td>\n",
              "      <td>2021-07-01</td>\n",
              "      <td>Мы подумали В ресторане Якутске ребёнку налили...</td>\n",
              "      <td>\"Мы подумали, что это вода\" , 'В ресторане в Я...</td>\n",
              "      <td>['Чочур Муран']</td>\n",
              "      <td>['Якутск']</td>\n",
              "      <td>[]</td>\n",
              "      <td>0</td>\n",
              "    </tr>\n",
              "    <tr>\n",
              "      <th>...</th>\n",
              "      <td>...</td>\n",
              "      <td>...</td>\n",
              "      <td>...</td>\n",
              "      <td>...</td>\n",
              "      <td>...</td>\n",
              "      <td>...</td>\n",
              "      <td>...</td>\n",
              "      <td>...</td>\n",
              "    </tr>\n",
              "    <tr>\n",
              "      <th>102806</th>\n",
              "      <td>Baza</td>\n",
              "      <td>2022-06-30</td>\n",
              "      <td>Галочка фейков ВКонтакте тестирует процедуру д...</td>\n",
              "      <td>Галочка против фейков. «ВКонтакте» тестирует п...</td>\n",
              "      <td>['ВКонтакте']</td>\n",
              "      <td>[]</td>\n",
              "      <td>[]</td>\n",
              "      <td>3</td>\n",
              "    </tr>\n",
              "    <tr>\n",
              "      <th>102807</th>\n",
              "      <td>Baza</td>\n",
              "      <td>2022-06-30</td>\n",
              "      <td>В Якутске трое мужчин попытались спасти ребенк...</td>\n",
              "      <td>В Якутске трое мужчин попытались спасти ребенк...</td>\n",
              "      <td>[]</td>\n",
              "      <td>['Якутск']</td>\n",
              "      <td>[]</td>\n",
              "      <td>2</td>\n",
              "    </tr>\n",
              "    <tr>\n",
              "      <th>102808</th>\n",
              "      <td>Baza</td>\n",
              "      <td>2022-06-30</td>\n",
              "      <td>С московских причалов начали убирать зазывал В...</td>\n",
              "      <td>С московских причалов начали убирать зазывал. ...</td>\n",
              "      <td>['Центр организация дорожное движение']</td>\n",
              "      <td>['Москве-реке']</td>\n",
              "      <td>[]</td>\n",
              "      <td>3</td>\n",
              "    </tr>\n",
              "    <tr>\n",
              "      <th>102809</th>\n",
              "      <td>Baza</td>\n",
              "      <td>2022-06-30</td>\n",
              "      <td>Девушка Москвы перевела рублей мошенникам публ...</td>\n",
              "      <td>Девушка из Москвы перевела 30 миллионов рублей...</td>\n",
              "      <td>['Ватсап']</td>\n",
              "      <td>['Москва', 'Одинцово']</td>\n",
              "      <td>['Даниэла', 'Даниэлы']</td>\n",
              "      <td>3</td>\n",
              "    </tr>\n",
              "    <tr>\n",
              "      <th>102810</th>\n",
              "      <td>Baza</td>\n",
              "      <td>2022-06-30</td>\n",
              "      <td>Сидим братвами б ь обсуждаем русских очкуете ж...</td>\n",
              "      <td>«Сидим мы с братвами, б***ь, обсуждаем вас, ру...</td>\n",
              "      <td>[]</td>\n",
              "      <td>['Сургут']</td>\n",
              "      <td>['Раи', 'Рай Мамедов']</td>\n",
              "      <td>3</td>\n",
              "    </tr>\n",
              "  </tbody>\n",
              "</table>\n",
              "<p>102811 rows × 8 columns</p>\n",
              "</div>\n",
              "      <button class=\"colab-df-convert\" onclick=\"convertToInteractive('df-ea8bd058-1dfb-41b3-b24a-915c323d3df6')\"\n",
              "              title=\"Convert this dataframe to an interactive table.\"\n",
              "              style=\"display:none;\">\n",
              "        \n",
              "  <svg xmlns=\"http://www.w3.org/2000/svg\" height=\"24px\"viewBox=\"0 0 24 24\"\n",
              "       width=\"24px\">\n",
              "    <path d=\"M0 0h24v24H0V0z\" fill=\"none\"/>\n",
              "    <path d=\"M18.56 5.44l.94 2.06.94-2.06 2.06-.94-2.06-.94-.94-2.06-.94 2.06-2.06.94zm-11 1L8.5 8.5l.94-2.06 2.06-.94-2.06-.94L8.5 2.5l-.94 2.06-2.06.94zm10 10l.94 2.06.94-2.06 2.06-.94-2.06-.94-.94-2.06-.94 2.06-2.06.94z\"/><path d=\"M17.41 7.96l-1.37-1.37c-.4-.4-.92-.59-1.43-.59-.52 0-1.04.2-1.43.59L10.3 9.45l-7.72 7.72c-.78.78-.78 2.05 0 2.83L4 21.41c.39.39.9.59 1.41.59.51 0 1.02-.2 1.41-.59l7.78-7.78 2.81-2.81c.8-.78.8-2.07 0-2.86zM5.41 20L4 18.59l7.72-7.72 1.47 1.35L5.41 20z\"/>\n",
              "  </svg>\n",
              "      </button>\n",
              "      \n",
              "  <style>\n",
              "    .colab-df-container {\n",
              "      display:flex;\n",
              "      flex-wrap:wrap;\n",
              "      gap: 12px;\n",
              "    }\n",
              "\n",
              "    .colab-df-convert {\n",
              "      background-color: #E8F0FE;\n",
              "      border: none;\n",
              "      border-radius: 50%;\n",
              "      cursor: pointer;\n",
              "      display: none;\n",
              "      fill: #1967D2;\n",
              "      height: 32px;\n",
              "      padding: 0 0 0 0;\n",
              "      width: 32px;\n",
              "    }\n",
              "\n",
              "    .colab-df-convert:hover {\n",
              "      background-color: #E2EBFA;\n",
              "      box-shadow: 0px 1px 2px rgba(60, 64, 67, 0.3), 0px 1px 3px 1px rgba(60, 64, 67, 0.15);\n",
              "      fill: #174EA6;\n",
              "    }\n",
              "\n",
              "    [theme=dark] .colab-df-convert {\n",
              "      background-color: #3B4455;\n",
              "      fill: #D2E3FC;\n",
              "    }\n",
              "\n",
              "    [theme=dark] .colab-df-convert:hover {\n",
              "      background-color: #434B5C;\n",
              "      box-shadow: 0px 1px 3px 1px rgba(0, 0, 0, 0.15);\n",
              "      filter: drop-shadow(0px 1px 2px rgba(0, 0, 0, 0.3));\n",
              "      fill: #FFFFFF;\n",
              "    }\n",
              "  </style>\n",
              "\n",
              "      <script>\n",
              "        const buttonEl =\n",
              "          document.querySelector('#df-ea8bd058-1dfb-41b3-b24a-915c323d3df6 button.colab-df-convert');\n",
              "        buttonEl.style.display =\n",
              "          google.colab.kernel.accessAllowed ? 'block' : 'none';\n",
              "\n",
              "        async function convertToInteractive(key) {\n",
              "          const element = document.querySelector('#df-ea8bd058-1dfb-41b3-b24a-915c323d3df6');\n",
              "          const dataTable =\n",
              "            await google.colab.kernel.invokeFunction('convertToInteractive',\n",
              "                                                     [key], {});\n",
              "          if (!dataTable) return;\n",
              "\n",
              "          const docLinkHtml = 'Like what you see? Visit the ' +\n",
              "            '<a target=\"_blank\" href=https://colab.research.google.com/notebooks/data_table.ipynb>data table notebook</a>'\n",
              "            + ' to learn more about interactive tables.';\n",
              "          element.innerHTML = '';\n",
              "          dataTable['output_type'] = 'display_data';\n",
              "          await google.colab.output.renderOutput(dataTable, element);\n",
              "          const docLink = document.createElement('div');\n",
              "          docLink.innerHTML = docLinkHtml;\n",
              "          element.appendChild(docLink);\n",
              "        }\n",
              "      </script>\n",
              "    </div>\n",
              "  </div>\n",
              "  "
            ]
          },
          "metadata": {},
          "execution_count": 10
        }
      ]
    },
    {
      "cell_type": "code",
      "source": [
        "dataset = dataset.dropna(axis=0)\n",
        "dataset[\"text\"] = clean_text(dataset[\"text\"])"
      ],
      "metadata": {
        "id": "NfxG-NC6tB4o"
      },
      "execution_count": null,
      "outputs": []
    },
    {
      "cell_type": "markdown",
      "source": [
        "### Удаляем дисклеймеры из Медузы"
      ],
      "metadata": {
        "id": "VWMrdia5S31i"
      }
    },
    {
      "cell_type": "code",
      "source": [
        "dataset = dataset.dropna(axis=0)\n",
        "inagent = \"ДАННОЕ СООБЩЕНИЕ МАТЕРИАЛ СОЗДАНО И ИЛИ РАСПРОСТРАНЕНО ИНОСТРАННЫМ СРЕДСТВОМ МАССОВОЙ ИНФОРМАЦИИ ВЫПОЛНЯЮЩИМ ФУНКЦИИ ИНОСТРАННОГО АГЕНТА И ИЛИ РОССИЙСКИМ ЮРИДИЧЕСКИМ ЛИЦОМ ВЫПОЛНЯЮЩИМ ФУНКЦИИ ИНОСТРАННОГО АГЕНТА\"\n",
        "disclaimer = \"Во время войны невозможно оперативно проверить информацию, которую распространяют официальные представители сторон конфликта\"\n",
        "dataset[\"text\"] = dataset[\"text\"].map(lambda x: x.replace(inagent, \"\"))\n",
        "dataset[\"text\"] = dataset[\"text\"].map(lambda x: x.replace(disclaimer, \"\"))\n",
        "dataset = dataset.dropna(axis=0)"
      ],
      "metadata": {
        "id": "9KGefBllSEQf",
        "colab": {
          "base_uri": "https://localhost:8080/"
        },
        "outputId": "c1de14fb-4911-41c1-a0e6-024e0315a1da"
      },
      "execution_count": null,
      "outputs": [
        {
          "output_type": "stream",
          "name": "stderr",
          "text": [
            "/usr/local/lib/python3.7/dist-packages/ipykernel_launcher.py:4: SettingWithCopyWarning: \n",
            "A value is trying to be set on a copy of a slice from a DataFrame.\n",
            "Try using .loc[row_indexer,col_indexer] = value instead\n",
            "\n",
            "See the caveats in the documentation: https://pandas.pydata.org/pandas-docs/stable/user_guide/indexing.html#returning-a-view-versus-a-copy\n",
            "  after removing the cwd from sys.path.\n"
          ]
        }
      ]
    },
    {
      "cell_type": "markdown",
      "source": [
        "### Удаляем строки короче 10 слов"
      ],
      "metadata": {
        "id": "Yzul7B1hSpZg"
      }
    },
    {
      "cell_type": "code",
      "source": [
        "dataset[\"text\"] = [np.nan if len(i.split()) <= 10 else i for i in dataset[\"text\"]]"
      ],
      "metadata": {
        "id": "iBLdERZBjf0x"
      },
      "execution_count": null,
      "outputs": []
    },
    {
      "cell_type": "code",
      "source": [
        "dataset = dataset.dropna(axis=0)"
      ],
      "metadata": {
        "id": "g1zTbHxBUWwH"
      },
      "execution_count": null,
      "outputs": []
    },
    {
      "cell_type": "markdown",
      "source": [
        "### Удаляем стоп-слова"
      ],
      "metadata": {
        "id": "oc7BVYnTUjNe"
      }
    },
    {
      "cell_type": "code",
      "source": [
        "dataset[\"text\"] = [\" \".join([word for word in indent.split() if word not in sw]) for indent in dataset[\"text\"]]"
      ],
      "metadata": {
        "id": "W8lc8xk_jPPb"
      },
      "execution_count": null,
      "outputs": []
    },
    {
      "cell_type": "markdown",
      "source": [
        "### Проверяем результат"
      ],
      "metadata": {
        "id": "2Obm65KyUrtc"
      }
    },
    {
      "cell_type": "code",
      "source": [
        "print(\"БЫЛО:\",\"\\n\\n\", dataset_original[\"text\"][63], \"\\n\\n\", \"СТАЛО:\",\"\\n\\n\", dataset[\"text\"][63])"
      ],
      "metadata": {
        "id": "n8ZM9xcjjzm2",
        "colab": {
          "base_uri": "https://localhost:8080/"
        },
        "outputId": "1c07f35f-135f-40cb-91f9-f91b2f770b16"
      },
      "execution_count": null,
      "outputs": [
        {
          "output_type": "stream",
          "name": "stdout",
          "text": [
            "БЫЛО: \n",
            "\n",
            " ['Генерал филиппинских ВС Сирилито Собехана заявил, что после крушения военного самолёта на острове Джоло удалось спасти около 40 человек. Причиной падения он назвал то, что Lockheed C-130 Hercules не попал на взлётно-посадочную полосу.\\n\\n', {'type': 'bold', 'text': 'UPD:'}, ' Как сообщают местные СМИ, на борту было 92 человека, погибли не менее 17.'] \n",
            "\n",
            " СТАЛО: \n",
            "\n",
            " Генерал филиппинских ВС Сирилито Собехана заявил крушения военного самолёта острове Джоло удалось спасти Причиной падения назвал Lockheed C Hercules попал взлётно посадочную полосу UPD Как сообщают местные СМИ борту человека погибли\n"
          ]
        }
      ]
    },
    {
      "cell_type": "code",
      "source": [
        "def about_df(df):\n",
        "  print(\"Пропущенные значения:\\n\", df.isnull().sum(), \"\\n\")\n",
        "  print(\"Средняя количество знаков в строке (мода):\", df[\"text\"].apply(len).mode(1), \"\\n\")\n",
        "  print(\"Максимальное количество знаков в строке:\", df[\"text\"].apply(len).max(), \"\\n\")\n",
        "  print(\"Минимальное количество знаков в строке:\", df[\"text\"].apply(len).min(), \"\\n\")\n",
        "  count = df[\"text\"].str.split().str.len()\n",
        "  print(\"Среднее количество слов в строке:\", count.mode(), \"\\n\")\n",
        "  print(\"Минимальное количество слов в строке:\", count.min(), \"\\n\")\n",
        "  print(\"Максимальное количество слов в строке:\", count.max(), \"\\n\")\n",
        "  return print(\"success!\")"
      ],
      "metadata": {
        "id": "oWl2rW4_HMPE"
      },
      "execution_count": null,
      "outputs": []
    },
    {
      "cell_type": "code",
      "source": [
        "about_df(dataset)"
      ],
      "metadata": {
        "id": "1YYDOkRjLoLN",
        "colab": {
          "base_uri": "https://localhost:8080/"
        },
        "outputId": "1e24087b-80b2-460c-ad00-8f502da3b830"
      },
      "execution_count": null,
      "outputs": [
        {
          "output_type": "stream",
          "name": "stdout",
          "text": [
            "Пропущенные значения:\n",
            " name            0\n",
            "Date            0\n",
            "text            0\n",
            "krasivi_text    0\n",
            "dtype: int64 \n",
            "\n",
            "Средняя количество знаков в строке (мода): 0    94\n",
            "dtype: int64 \n",
            "\n",
            "Максимальное количество знаков в строке: 3399 \n",
            "\n",
            "Минимальное количество знаков в строке: 20 \n",
            "\n",
            "Среднее количество слов в строке: 0    11\n",
            "dtype: int64 \n",
            "\n",
            "Минимальное количество слов в строке: 3 \n",
            "\n",
            "Максимальное количество слов в строке: 415 \n",
            "\n",
            "success!\n"
          ]
        }
      ]
    },
    {
      "cell_type": "code",
      "source": [
        "dataset.reset_index(drop=True, inplace=True)"
      ],
      "metadata": {
        "id": "U-DG4EAJoHB5"
      },
      "execution_count": null,
      "outputs": []
    },
    {
      "cell_type": "code",
      "source": [
        "dataset"
      ],
      "metadata": {
        "colab": {
          "base_uri": "https://localhost:8080/",
          "height": 424
        },
        "id": "kDdh7VE_LP8x",
        "outputId": "12a129fd-aab8-4851-9266-cd2fd3630d0c"
      },
      "execution_count": null,
      "outputs": [
        {
          "output_type": "execute_result",
          "data": {
            "text/plain": [
              "        name        Date                                               text  \\\n",
              "0       Mash  2021-07-01  Человек своим телом закрыл старого друга семьи...   \n",
              "1       Mash  2021-07-01  Данные коронавирусу прошедшие новых случая За ...   \n",
              "2       Mash  2021-07-01  Яша артиллерист вчерашней прямой линии жаловал...   \n",
              "3       Mash  2021-07-01  В Москве врачи спасли летней женщине Два часа ...   \n",
              "4       Mash  2021-07-01  Мы подумали В ресторане Якутске ребёнку налили...   \n",
              "...      ...         ...                                                ...   \n",
              "102806  Baza  2022-06-30  Галочка фейков ВКонтакте тестирует процедуру д...   \n",
              "102807  Baza  2022-06-30  В Якутске трое мужчин попытались спасти ребенк...   \n",
              "102808  Baza  2022-06-30  С московских причалов начали убирать зазывал В...   \n",
              "102809  Baza  2022-06-30  Девушка Москвы перевела рублей мошенникам публ...   \n",
              "102810  Baza  2022-06-30  Сидим братвами б ь обсуждаем русских очкуете ж...   \n",
              "\n",
              "                                             krasivi_text  \n",
              "0       Человек своим телом закрыл старого друга семьи...  \n",
              "1       Данные по коронавирусу за прошедшие сутки: 23 ...  \n",
              "2       \"Яша-артиллерист\" со вчерашней прямой линии жа...  \n",
              "3       В Москве врачи спасли жизнь 67-летней женщине....  \n",
              "4       \"Мы подумали, что это вода\" , 'В ресторане в Я...  \n",
              "...                                                   ...  \n",
              "102806  Галочка против фейков. «ВКонтакте» тестирует п...  \n",
              "102807  В Якутске трое мужчин попытались спасти ребенк...  \n",
              "102808  С московских причалов начали убирать зазывал. ...  \n",
              "102809  Девушка из Москвы перевела 30 миллионов рублей...  \n",
              "102810  «Сидим мы с братвами, б***ь, обсуждаем вас, ру...  \n",
              "\n",
              "[102811 rows x 4 columns]"
            ],
            "text/html": [
              "\n",
              "  <div id=\"df-e8cb82cf-135d-477a-a8bc-3b405acfdb5e\">\n",
              "    <div class=\"colab-df-container\">\n",
              "      <div>\n",
              "<style scoped>\n",
              "    .dataframe tbody tr th:only-of-type {\n",
              "        vertical-align: middle;\n",
              "    }\n",
              "\n",
              "    .dataframe tbody tr th {\n",
              "        vertical-align: top;\n",
              "    }\n",
              "\n",
              "    .dataframe thead th {\n",
              "        text-align: right;\n",
              "    }\n",
              "</style>\n",
              "<table border=\"1\" class=\"dataframe\">\n",
              "  <thead>\n",
              "    <tr style=\"text-align: right;\">\n",
              "      <th></th>\n",
              "      <th>name</th>\n",
              "      <th>Date</th>\n",
              "      <th>text</th>\n",
              "      <th>krasivi_text</th>\n",
              "    </tr>\n",
              "  </thead>\n",
              "  <tbody>\n",
              "    <tr>\n",
              "      <th>0</th>\n",
              "      <td>Mash</td>\n",
              "      <td>2021-07-01</td>\n",
              "      <td>Человек своим телом закрыл старого друга семьи...</td>\n",
              "      <td>Человек своим телом закрыл старого друга семьи...</td>\n",
              "    </tr>\n",
              "    <tr>\n",
              "      <th>1</th>\n",
              "      <td>Mash</td>\n",
              "      <td>2021-07-01</td>\n",
              "      <td>Данные коронавирусу прошедшие новых случая За ...</td>\n",
              "      <td>Данные по коронавирусу за прошедшие сутки: 23 ...</td>\n",
              "    </tr>\n",
              "    <tr>\n",
              "      <th>2</th>\n",
              "      <td>Mash</td>\n",
              "      <td>2021-07-01</td>\n",
              "      <td>Яша артиллерист вчерашней прямой линии жаловал...</td>\n",
              "      <td>\"Яша-артиллерист\" со вчерашней прямой линии жа...</td>\n",
              "    </tr>\n",
              "    <tr>\n",
              "      <th>3</th>\n",
              "      <td>Mash</td>\n",
              "      <td>2021-07-01</td>\n",
              "      <td>В Москве врачи спасли летней женщине Два часа ...</td>\n",
              "      <td>В Москве врачи спасли жизнь 67-летней женщине....</td>\n",
              "    </tr>\n",
              "    <tr>\n",
              "      <th>4</th>\n",
              "      <td>Mash</td>\n",
              "      <td>2021-07-01</td>\n",
              "      <td>Мы подумали В ресторане Якутске ребёнку налили...</td>\n",
              "      <td>\"Мы подумали, что это вода\" , 'В ресторане в Я...</td>\n",
              "    </tr>\n",
              "    <tr>\n",
              "      <th>...</th>\n",
              "      <td>...</td>\n",
              "      <td>...</td>\n",
              "      <td>...</td>\n",
              "      <td>...</td>\n",
              "    </tr>\n",
              "    <tr>\n",
              "      <th>102806</th>\n",
              "      <td>Baza</td>\n",
              "      <td>2022-06-30</td>\n",
              "      <td>Галочка фейков ВКонтакте тестирует процедуру д...</td>\n",
              "      <td>Галочка против фейков. «ВКонтакте» тестирует п...</td>\n",
              "    </tr>\n",
              "    <tr>\n",
              "      <th>102807</th>\n",
              "      <td>Baza</td>\n",
              "      <td>2022-06-30</td>\n",
              "      <td>В Якутске трое мужчин попытались спасти ребенк...</td>\n",
              "      <td>В Якутске трое мужчин попытались спасти ребенк...</td>\n",
              "    </tr>\n",
              "    <tr>\n",
              "      <th>102808</th>\n",
              "      <td>Baza</td>\n",
              "      <td>2022-06-30</td>\n",
              "      <td>С московских причалов начали убирать зазывал В...</td>\n",
              "      <td>С московских причалов начали убирать зазывал. ...</td>\n",
              "    </tr>\n",
              "    <tr>\n",
              "      <th>102809</th>\n",
              "      <td>Baza</td>\n",
              "      <td>2022-06-30</td>\n",
              "      <td>Девушка Москвы перевела рублей мошенникам публ...</td>\n",
              "      <td>Девушка из Москвы перевела 30 миллионов рублей...</td>\n",
              "    </tr>\n",
              "    <tr>\n",
              "      <th>102810</th>\n",
              "      <td>Baza</td>\n",
              "      <td>2022-06-30</td>\n",
              "      <td>Сидим братвами б ь обсуждаем русских очкуете ж...</td>\n",
              "      <td>«Сидим мы с братвами, б***ь, обсуждаем вас, ру...</td>\n",
              "    </tr>\n",
              "  </tbody>\n",
              "</table>\n",
              "<p>102811 rows × 4 columns</p>\n",
              "</div>\n",
              "      <button class=\"colab-df-convert\" onclick=\"convertToInteractive('df-e8cb82cf-135d-477a-a8bc-3b405acfdb5e')\"\n",
              "              title=\"Convert this dataframe to an interactive table.\"\n",
              "              style=\"display:none;\">\n",
              "        \n",
              "  <svg xmlns=\"http://www.w3.org/2000/svg\" height=\"24px\"viewBox=\"0 0 24 24\"\n",
              "       width=\"24px\">\n",
              "    <path d=\"M0 0h24v24H0V0z\" fill=\"none\"/>\n",
              "    <path d=\"M18.56 5.44l.94 2.06.94-2.06 2.06-.94-2.06-.94-.94-2.06-.94 2.06-2.06.94zm-11 1L8.5 8.5l.94-2.06 2.06-.94-2.06-.94L8.5 2.5l-.94 2.06-2.06.94zm10 10l.94 2.06.94-2.06 2.06-.94-2.06-.94-.94-2.06-.94 2.06-2.06.94z\"/><path d=\"M17.41 7.96l-1.37-1.37c-.4-.4-.92-.59-1.43-.59-.52 0-1.04.2-1.43.59L10.3 9.45l-7.72 7.72c-.78.78-.78 2.05 0 2.83L4 21.41c.39.39.9.59 1.41.59.51 0 1.02-.2 1.41-.59l7.78-7.78 2.81-2.81c.8-.78.8-2.07 0-2.86zM5.41 20L4 18.59l7.72-7.72 1.47 1.35L5.41 20z\"/>\n",
              "  </svg>\n",
              "      </button>\n",
              "      \n",
              "  <style>\n",
              "    .colab-df-container {\n",
              "      display:flex;\n",
              "      flex-wrap:wrap;\n",
              "      gap: 12px;\n",
              "    }\n",
              "\n",
              "    .colab-df-convert {\n",
              "      background-color: #E8F0FE;\n",
              "      border: none;\n",
              "      border-radius: 50%;\n",
              "      cursor: pointer;\n",
              "      display: none;\n",
              "      fill: #1967D2;\n",
              "      height: 32px;\n",
              "      padding: 0 0 0 0;\n",
              "      width: 32px;\n",
              "    }\n",
              "\n",
              "    .colab-df-convert:hover {\n",
              "      background-color: #E2EBFA;\n",
              "      box-shadow: 0px 1px 2px rgba(60, 64, 67, 0.3), 0px 1px 3px 1px rgba(60, 64, 67, 0.15);\n",
              "      fill: #174EA6;\n",
              "    }\n",
              "\n",
              "    [theme=dark] .colab-df-convert {\n",
              "      background-color: #3B4455;\n",
              "      fill: #D2E3FC;\n",
              "    }\n",
              "\n",
              "    [theme=dark] .colab-df-convert:hover {\n",
              "      background-color: #434B5C;\n",
              "      box-shadow: 0px 1px 3px 1px rgba(0, 0, 0, 0.15);\n",
              "      filter: drop-shadow(0px 1px 2px rgba(0, 0, 0, 0.3));\n",
              "      fill: #FFFFFF;\n",
              "    }\n",
              "  </style>\n",
              "\n",
              "      <script>\n",
              "        const buttonEl =\n",
              "          document.querySelector('#df-e8cb82cf-135d-477a-a8bc-3b405acfdb5e button.colab-df-convert');\n",
              "        buttonEl.style.display =\n",
              "          google.colab.kernel.accessAllowed ? 'block' : 'none';\n",
              "\n",
              "        async function convertToInteractive(key) {\n",
              "          const element = document.querySelector('#df-e8cb82cf-135d-477a-a8bc-3b405acfdb5e');\n",
              "          const dataTable =\n",
              "            await google.colab.kernel.invokeFunction('convertToInteractive',\n",
              "                                                     [key], {});\n",
              "          if (!dataTable) return;\n",
              "\n",
              "          const docLinkHtml = 'Like what you see? Visit the ' +\n",
              "            '<a target=\"_blank\" href=https://colab.research.google.com/notebooks/data_table.ipynb>data table notebook</a>'\n",
              "            + ' to learn more about interactive tables.';\n",
              "          element.innerHTML = '';\n",
              "          dataTable['output_type'] = 'display_data';\n",
              "          await google.colab.output.renderOutput(dataTable, element);\n",
              "          const docLink = document.createElement('div');\n",
              "          docLink.innerHTML = docLinkHtml;\n",
              "          element.appendChild(docLink);\n",
              "        }\n",
              "      </script>\n",
              "    </div>\n",
              "  </div>\n",
              "  "
            ]
          },
          "metadata": {},
          "execution_count": 41
        }
      ]
    },
    {
      "cell_type": "code",
      "source": [
        "dataset.to_csv('/content/drive/MyDrive/Russian_news_project/final_project/csv/TG_2508.csv')"
      ],
      "metadata": {
        "id": "qyyoF2yIVZsU"
      },
      "execution_count": null,
      "outputs": []
    }
  ]
}